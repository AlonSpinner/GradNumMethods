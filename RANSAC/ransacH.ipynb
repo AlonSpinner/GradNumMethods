{
 "cells": [
  {
   "cell_type": "code",
   "execution_count": null,
   "metadata": {},
   "outputs": [],
   "source": [
    "def ransacH(p1, p2, N = 1000, s = 4, delta = 1):\n",
    "   #p1 is a list of [u1,v1]\n",
    "   #p2 is a list of [u2,v2]\n",
    "   #p1[i],p2[i] are matching points.\n",
    "   \n",
    "   inliers_max = 0 #initalize\n",
    "    for i in range(N):\n",
    "        #choose s random matches and fit H_candidate to them\n",
    "        ind_pairs = np.random.randint(n, size=s) #random indcies\n",
    "        H_candidate = computeH(p1[:,ind_pairs], p2[:,ind_pairs]) #accepts 2xm\n",
    "\n",
    "        #apply H_candidate on the entirety of p2 \n",
    "        homog_p2=homogenize_coordinates(p2) #turns [u2,v2] -> [u2,v2,1]\n",
    "        H_homog_p2 = H_candidate @ homog_p2\n",
    "        H_p2=hetrogenize_coordinates(H_homog_p2) #turns back to [u,v] format\n",
    "        \n",
    "        #compute inliers by eucldian norm sum(||H*p2-p1|| < delta)\n",
    "        inliers_amount = len(np.where((np.sum(np.abs(H_p2-p1)**2,axis=0)**(1./2)<delta))[0])\n",
    "        \n",
    "        #if H_candidate brings to more inliers, it is now H_best\n",
    "        if inliers_max < inliers_amount:\n",
    "            inliers_max = inliers_amount\n",
    "            H_best = H_candidate \n",
    "\n",
    "    return H_best"
   ]
  }
 ],
 "metadata": {
  "language_info": {
   "name": "python"
  },
  "orig_nbformat": 4
 },
 "nbformat": 4,
 "nbformat_minor": 2
}
